{
 "cells": [
  {
   "cell_type": "markdown",
   "id": "68ebf257-82c6-4bfe-8127-f20738e50251",
   "metadata": {},
   "source": [
    "# This a code for batch georeferencing images \n",
    "* Rename files\n",
    "* Batch georeference\n",
    "* Merge(stick)"
   ]
  },
  {
   "cell_type": "code",
   "execution_count": 1,
   "id": "b99daa4d-fe27-4f12-944d-03fe7eebb678",
   "metadata": {},
   "outputs": [],
   "source": [
    "#Batch georeference images \n",
    "import os \n",
    "import rasterio\n",
    "import cv2"
   ]
  },
  {
   "cell_type": "code",
   "execution_count": 4,
   "id": "3c792aa1-8799-435e-9ef2-f483b77fdb06",
   "metadata": {},
   "outputs": [
    {
     "name": "stdout",
     "output_type": "stream",
     "text": [
      "Processing complete.\n"
     ]
    }
   ],
   "source": [
    "src_images = []\n",
    "src_dir = './patches' #add path to georeferenced patches\n",
    "for filename in os.listdir(src_dir): \n",
    "    if os.path.splitext(filename)[1].lower() in ['.tif','.TIF', '.PNG', '.png', '.tiff']:\n",
    "        src_images.append(os.path.join(src_dir, filename))\n",
    "nongeoref_images = []\n",
    "target_dir = './prediction' # add path to prediction patches\n",
    "for filename1 in os.listdir(target_dir):  \n",
    "    if os.path.splitext(filename1)[1].lower() in ['.tif', '.PNG', '.png', '.tiff']: \n",
    "        nongeoref_images.append(os.path.join(target_dir, filename1))\n",
    "\n",
    "#outpath_georef = f'D:\\\\paper\\\\test\\\\site2_{set}_georef'\n",
    "outpath_georef = './georeferenced' # add path to where georeferenced prediction patches are to be stored\n",
    "# Ensure the output directory exists\n",
    "os.makedirs(outpath_georef, exist_ok=True)\n",
    "ext = \".tif\"\n",
    "\n",
    "for georef_image in src_images:\n",
    "    georef_image_name = georef_image.split(os.sep)[-1]\n",
    "    sID = georef_image_name.split(\".\")[0]\n",
    "    #print(sID)\n",
    "    georef = rasterio.open(georef_image)\n",
    "    \n",
    "    for predict_image in nongeoref_images:\n",
    "        predict_image_name = predict_image.split(os.sep)[-1]\n",
    "        dsID = predict_image_name.split(\".\")[0]\n",
    "        #print (dsID)\n",
    "        \n",
    "        if dsID == sID:\n",
    "            toref = cv2.imread(predict_image, 0)\n",
    "            new_tif = rasterio.open(os.path.join(outpath_georef, sID + ext), 'w',\n",
    "                                    driver='Gtiff',\n",
    "                                    height=georef.height,\n",
    "                                    width=georef.width,\n",
    "                                    count=1,\n",
    "                                    nodata=0,\n",
    "                                    crs=georef.crs,\n",
    "                                    transform=georef.transform,\n",
    "                                    dtype='uint8')\n",
    "            new_tif.write(toref, indexes=1)\n",
    "            new_tif.close()\n",
    "\n",
    "    georef.close()\n",
    "\n",
    "print(\"Processing complete.\")"
   ]
  },
  {
   "cell_type": "code",
   "execution_count": 5,
   "id": "d66fa01f-5f90-462c-8d20-a31ae73d77c8",
   "metadata": {},
   "outputs": [],
   "source": [
    "#Merge geotiff images \n",
    "import os\n",
    "import rasterio\n",
    "from rasterio.merge import merge\n",
    "from rasterio import Affine\n",
    "from rasterio.warp import calculate_default_transform, reproject\n",
    "#os.chdir('')\n",
    "# Specify the directory containing your GeoTIFF mask images\n",
    "input_images = outpath_georef\n",
    "\n",
    "# List all GeoTIFF files in the input folder\n",
    "tif_files = [os.path.join(input_images, file) for file in os.listdir(input_images) if file.endswith('.tif')]\n",
    "\n",
    "# Read and merge the GeoTIFF files\n",
    "datasets = [rasterio.open(tif_file) for tif_file in tif_files]\n",
    "merged, transform = merge(datasets)\n",
    "\n",
    "# Define the output file path\n",
    "#output_tif = f'C:/dl/ruhengeri/georef/merged_roof.tif'\n",
    "output_tif = './georeferenced/merged_patches.tif'\n",
    "# Update the metadata of the merged GeoTIFF\n",
    "merged_meta = datasets[0].meta.copy()\n",
    "merged_meta.update({\n",
    "    'width': merged.shape[2],\n",
    "    'height': merged.shape[1],\n",
    "    'transform': transform\n",
    "})\n",
    "\n",
    "# Create the output GeoTIFF file and write the merged data\n",
    "with rasterio.open(output_tif, 'w', bigtiff=\"yes\", **merged_meta) as dest:\n",
    "    dest.write(merged)"
   ]
  },
  {
   "cell_type": "markdown",
   "id": "396b9f1e-a59f-4449-9634-c094836c5203",
   "metadata": {},
   "source": [
    "### (batch) Vectorise (convert raster to vector to create shapefile of buildings with predicted wealth classes)"
   ]
  },
  {
   "cell_type": "code",
   "execution_count": 9,
   "id": "90edb6a9-9a6c-404d-98dc-747c70c6f335",
   "metadata": {},
   "outputs": [
    {
     "name": "stdout",
     "output_type": "stream",
     "text": [
      "Processing: prediction_Raster.tif\n",
      "Saved: ./georeferenced/prediction_vectorised.shp\n"
     ]
    }
   ],
   "source": [
    "import os\n",
    "import rasterio\n",
    "from rasterio import features\n",
    "import geopandas as gpd\n",
    "from shapely.geometry import shape\n",
    "\n",
    "# Input and output directories\n",
    "input_folder = './georeferenced' # Replace with your folder path\n",
    "output_folder = \"./georeferenced\"  # Replace with your folder path\n",
    "\n",
    "# Ensure output folder exists\n",
    "os.makedirs(output_folder, exist_ok=True)\n",
    "\n",
    "# Loop through all .tif files in the folder\n",
    "for file in os.listdir(input_folder):\n",
    "    if file.endswith(\".tif\"):  # Process only .tif files\n",
    "        raster_path = os.path.join(input_folder, file)\n",
    "        shapefile_name = os.path.splitext(file)[0] + \".shp\"\n",
    "        shapefile_path = os.path.join(output_folder, shapefile_name)\n",
    "\n",
    "        print(f\"Processing: {file}\")\n",
    "\n",
    "        # Open the raster file\n",
    "        with rasterio.open(raster_path) as src:\n",
    "            # Read the raster data (first band)\n",
    "            image = src.read(1)\n",
    "            mask = image != src.nodata  # Mask NoData values\n",
    "\n",
    "            # Generate polygons\n",
    "            results = features.shapes(image, mask=mask, transform=src.transform)\n",
    "\n",
    "            # Create list of geometries and values\n",
    "            polygons = []\n",
    "            for geom, value in results:\n",
    "                if value != src.nodata:\n",
    "                    polygons.append({\n",
    "                        'geometry': shape(geom),\n",
    "                        'value': value\n",
    "                    })\n",
    "\n",
    "            # Skip if no valid polygons found\n",
    "            if not polygons:\n",
    "                print(f\"Skipping {file} (No valid data)\")\n",
    "                continue\n",
    "\n",
    "            # Create a GeoDataFrame with the raster's CRS\n",
    "            gdf = gpd.GeoDataFrame(polygons, crs=src.crs)\n",
    "\n",
    "            # Save to a shapefile\n",
    "            gdf.to_file(shapefile_path)\n",
    "            print(f\"Saved: {shapefile_path}\")\n",
    "\n",
    "#print(\"Processing complete!\")"
   ]
  },
  {
   "cell_type": "code",
   "execution_count": null,
   "id": "e5baf777-245d-44a5-8085-c43bd9e5c9bb",
   "metadata": {},
   "outputs": [],
   "source": []
  }
 ],
 "metadata": {
  "kernelspec": {
   "display_name": "Python 3 (ipykernel)",
   "language": "python",
   "name": "python3"
  },
  "language_info": {
   "codemirror_mode": {
    "name": "ipython",
    "version": 3
   },
   "file_extension": ".py",
   "mimetype": "text/x-python",
   "name": "python",
   "nbconvert_exporter": "python",
   "pygments_lexer": "ipython3",
   "version": "3.11.0"
  }
 },
 "nbformat": 4,
 "nbformat_minor": 5
}
